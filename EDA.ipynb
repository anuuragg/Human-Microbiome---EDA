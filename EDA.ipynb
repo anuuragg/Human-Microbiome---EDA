{
 "cells": [
  {
   "cell_type": "markdown",
   "metadata": {},
   "source": [
    "# Exploratory Data Analysis (EDA) of the Human Microbiome\n",
    "## Domain: Microbiome Data Analysis\n",
    "\n",
    "### Objective:\n",
    "The goal of this project is to perform Exploratory Data Analysis (EDA) on a dataset of human microbiome samples to understand the structure, composition, and variability of microbial communities.\n",
    "\n",
    "### Dataset Overview:\n",
    "The dataset contains information about various microbiological organisms, their project statuses, sequencing efforts, and related metadata.\n",
    "\n",
    "### Features:\n",
    "- **HMP ID**: Unique identifier for each sample.\n",
    "- **GOLD ID**: Genomic identifier for the sample.\n",
    "- **Organism Name**: Name of the organism.\n",
    "- **Domain**: Bacterial or other classification.\n",
    "- **NCBI Superkingdom**: High-level categorization (e.g., Bacteria).\n",
    "- **Body Site**: Location in the body from which the sample was collected.\n",
    "- **Project Status**: Completion status of the project.\n",
    "- **Gene Count**: Number of genes identified in the sample.\n",
    "\n",
    "We will explore the dataset by handling missing values, detecting outliers, analyzing descriptive statistics, and applying basic aggregation techniques.\n",
    "\n",
    "<!-- (\"![microbiome.jpg](attachment:microbiome.jpg)\") -->\n",
    "\n",
    "<img src=\"microbiome.jpg\" width=300 height=300 />\n"
   ]
  },
  {
   "cell_type": "markdown",
   "metadata": {},
   "source": [
    "#### Import the necessary modules"
   ]
  },
  {
   "cell_type": "code",
   "execution_count": 107,
   "metadata": {},
   "outputs": [],
   "source": [
    "import pandas as pd\n",
    "import matplotlib.pyplot as plt\n",
    "import numpy as np"
   ]
  },
  {
   "cell_type": "markdown",
   "metadata": {},
   "source": [
    "<br>\n",
    "Load the dataset"
   ]
  },
  {
   "cell_type": "code",
   "execution_count": 108,
   "metadata": {},
   "outputs": [],
   "source": [
    "micro = pd.read_csv('project_catalog.csv')\n",
    "# pd.set_option('display.max_rows', None, 'display.max_columns', None)"
   ]
  },
  {
   "cell_type": "markdown",
   "metadata": {},
   "source": [
    "<br>\n",
    "Display the first few rows of the dataset"
   ]
  },
  {
   "cell_type": "code",
   "execution_count": 109,
   "metadata": {},
   "outputs": [
    {
     "data": {
      "text/html": [
       "<div>\n",
       "<style scoped>\n",
       "    .dataframe tbody tr th:only-of-type {\n",
       "        vertical-align: middle;\n",
       "    }\n",
       "\n",
       "    .dataframe tbody tr th {\n",
       "        vertical-align: top;\n",
       "    }\n",
       "\n",
       "    .dataframe thead th {\n",
       "        text-align: right;\n",
       "    }\n",
       "</style>\n",
       "<table border=\"1\" class=\"dataframe\">\n",
       "  <thead>\n",
       "    <tr style=\"text-align: right;\">\n",
       "      <th></th>\n",
       "      <th>HMP ID</th>\n",
       "      <th>GOLD ID</th>\n",
       "      <th>Organism Name</th>\n",
       "      <th>Domain</th>\n",
       "      <th>NCBI Superkingdom</th>\n",
       "      <th>HMP Isolation Body Site</th>\n",
       "      <th>Project Status</th>\n",
       "      <th>Current Finishing Level</th>\n",
       "      <th>NCBI Submission Status</th>\n",
       "      <th>NCBI Project ID</th>\n",
       "      <th>Genbank ID</th>\n",
       "      <th>Gene Count</th>\n",
       "      <th>IMG/HMP ID</th>\n",
       "      <th>HOMD ID</th>\n",
       "      <th>Sequencing Center</th>\n",
       "      <th>Funding Source</th>\n",
       "      <th>Strain Repository ID</th>\n",
       "    </tr>\n",
       "  </thead>\n",
       "  <tbody>\n",
       "    <tr>\n",
       "      <th>0</th>\n",
       "      <td>1</td>\n",
       "      <td>Gi03551</td>\n",
       "      <td>Abiotrophia defectiva ATCC 49176</td>\n",
       "      <td>BACTERIAL</td>\n",
       "      <td>Bacteria</td>\n",
       "      <td>oral</td>\n",
       "      <td>Complete</td>\n",
       "      <td>Level 3: Improved-High-Quality Draft</td>\n",
       "      <td>6. annotation (and sequence) public on NCBI site</td>\n",
       "      <td>33011</td>\n",
       "      <td>ACIN00000000</td>\n",
       "      <td>1950</td>\n",
       "      <td>643886181</td>\n",
       "      <td>HOMD: tax_389</td>\n",
       "      <td>Washington University Genome Sequencing Center</td>\n",
       "      <td>NIH-HMP Jumpstart Supplement</td>\n",
       "      <td>ATCC 49176, CIP 103242</td>\n",
       "    </tr>\n",
       "    <tr>\n",
       "      <th>1</th>\n",
       "      <td>4</td>\n",
       "      <td>Gi03555</td>\n",
       "      <td>Achromobacter piechaudii ATCC 43553</td>\n",
       "      <td>BACTERIAL</td>\n",
       "      <td>Bacteria</td>\n",
       "      <td>airways</td>\n",
       "      <td>Complete</td>\n",
       "      <td>Level 2: High-Quality Draft</td>\n",
       "      <td>6. annotation (and sequence) public on NCBI site</td>\n",
       "      <td>46343</td>\n",
       "      <td>ADMS00000000</td>\n",
       "      <td>5755</td>\n",
       "      <td>647000200</td>\n",
       "      <td>NaN</td>\n",
       "      <td>Baylor College of Medicine</td>\n",
       "      <td>NIH-HMP Jumpstart Supplement</td>\n",
       "      <td>ATCC 43553, CIP 55774, LMG 6100</td>\n",
       "    </tr>\n",
       "    <tr>\n",
       "      <th>2</th>\n",
       "      <td>5</td>\n",
       "      <td>Gi03554</td>\n",
       "      <td>Achromobacter xylosoxidans C54</td>\n",
       "      <td>BACTERIAL</td>\n",
       "      <td>Bacteria</td>\n",
       "      <td>airways</td>\n",
       "      <td>Complete</td>\n",
       "      <td>Level 5: Non-contiguous Finished</td>\n",
       "      <td>6. annotation (and sequence) public on NCBI site</td>\n",
       "      <td>38739</td>\n",
       "      <td>ACRC00000000</td>\n",
       "      <td>6010</td>\n",
       "      <td>0</td>\n",
       "      <td>HOMD: tax_343</td>\n",
       "      <td>Broad Institute</td>\n",
       "      <td>NIH-HMP Jumpstart Supplement</td>\n",
       "      <td>BEI HM-235</td>\n",
       "    </tr>\n",
       "    <tr>\n",
       "      <th>3</th>\n",
       "      <td>10</td>\n",
       "      <td>Gi03422</td>\n",
       "      <td>Acinetobacter baumannii ATCC 19606</td>\n",
       "      <td>BACTERIAL</td>\n",
       "      <td>Bacteria</td>\n",
       "      <td>urogenital_tract</td>\n",
       "      <td>Complete</td>\n",
       "      <td>Level 2: High-Quality Draft</td>\n",
       "      <td>6. annotation (and sequence) public on NCBI site</td>\n",
       "      <td>38509</td>\n",
       "      <td>ACQB00000000</td>\n",
       "      <td>3832</td>\n",
       "      <td>647533101</td>\n",
       "      <td>HOMD: tax_554</td>\n",
       "      <td>Broad Institute</td>\n",
       "      <td>NIH-HMP Jumpstart Supplement</td>\n",
       "      <td>ATCC 19606, DSM 6974</td>\n",
       "    </tr>\n",
       "    <tr>\n",
       "      <th>4</th>\n",
       "      <td>12</td>\n",
       "      <td>Gi03421</td>\n",
       "      <td>Acinetobacter calcoaceticus RUH2202</td>\n",
       "      <td>BACTERIAL</td>\n",
       "      <td>Bacteria</td>\n",
       "      <td>skin</td>\n",
       "      <td>Complete</td>\n",
       "      <td>Level 2: High-Quality Draft</td>\n",
       "      <td>6. annotation (and sequence) public on NCBI site</td>\n",
       "      <td>38337</td>\n",
       "      <td>ACPK00000000</td>\n",
       "      <td>3632</td>\n",
       "      <td>646206267</td>\n",
       "      <td>NaN</td>\n",
       "      <td>Broad Institute</td>\n",
       "      <td>NIH-HMP Jumpstart Supplement</td>\n",
       "      <td>LMG 10517</td>\n",
       "    </tr>\n",
       "  </tbody>\n",
       "</table>\n",
       "</div>"
      ],
      "text/plain": [
       "   HMP ID  GOLD ID                        Organism Name     Domain  \\\n",
       "0       1  Gi03551     Abiotrophia defectiva ATCC 49176  BACTERIAL   \n",
       "1       4  Gi03555  Achromobacter piechaudii ATCC 43553  BACTERIAL   \n",
       "2       5  Gi03554       Achromobacter xylosoxidans C54  BACTERIAL   \n",
       "3      10  Gi03422   Acinetobacter baumannii ATCC 19606  BACTERIAL   \n",
       "4      12  Gi03421  Acinetobacter calcoaceticus RUH2202  BACTERIAL   \n",
       "\n",
       "  NCBI Superkingdom HMP Isolation Body Site Project Status  \\\n",
       "0          Bacteria                    oral       Complete   \n",
       "1          Bacteria                 airways       Complete   \n",
       "2          Bacteria                 airways       Complete   \n",
       "3          Bacteria        urogenital_tract       Complete   \n",
       "4          Bacteria                    skin       Complete   \n",
       "\n",
       "                Current Finishing Level  \\\n",
       "0  Level 3: Improved-High-Quality Draft   \n",
       "1           Level 2: High-Quality Draft   \n",
       "2      Level 5: Non-contiguous Finished   \n",
       "3           Level 2: High-Quality Draft   \n",
       "4           Level 2: High-Quality Draft   \n",
       "\n",
       "                             NCBI Submission Status  NCBI Project ID  \\\n",
       "0  6. annotation (and sequence) public on NCBI site            33011   \n",
       "1  6. annotation (and sequence) public on NCBI site            46343   \n",
       "2  6. annotation (and sequence) public on NCBI site            38739   \n",
       "3  6. annotation (and sequence) public on NCBI site            38509   \n",
       "4  6. annotation (and sequence) public on NCBI site            38337   \n",
       "\n",
       "     Genbank ID  Gene Count  IMG/HMP ID        HOMD ID  \\\n",
       "0  ACIN00000000        1950   643886181  HOMD: tax_389   \n",
       "1  ADMS00000000        5755   647000200            NaN   \n",
       "2  ACRC00000000        6010           0  HOMD: tax_343   \n",
       "3  ACQB00000000        3832   647533101  HOMD: tax_554   \n",
       "4  ACPK00000000        3632   646206267            NaN   \n",
       "\n",
       "                                Sequencing Center  \\\n",
       "0  Washington University Genome Sequencing Center   \n",
       "1                      Baylor College of Medicine   \n",
       "2                                 Broad Institute   \n",
       "3                                 Broad Institute   \n",
       "4                                 Broad Institute   \n",
       "\n",
       "                 Funding Source             Strain Repository ID  \n",
       "0  NIH-HMP Jumpstart Supplement           ATCC 49176, CIP 103242  \n",
       "1  NIH-HMP Jumpstart Supplement  ATCC 43553, CIP 55774, LMG 6100  \n",
       "2  NIH-HMP Jumpstart Supplement                       BEI HM-235  \n",
       "3  NIH-HMP Jumpstart Supplement             ATCC 19606, DSM 6974  \n",
       "4  NIH-HMP Jumpstart Supplement                        LMG 10517  "
      ]
     },
     "execution_count": 109,
     "metadata": {},
     "output_type": "execute_result"
    }
   ],
   "source": [
    "micro.head()"
   ]
  },
  {
   "cell_type": "markdown",
   "metadata": {},
   "source": [
    "<br>"
   ]
  },
  {
   "cell_type": "markdown",
   "metadata": {},
   "source": [
    "#### checking the shape, its columns and the amount of missing data."
   ]
  },
  {
   "cell_type": "code",
   "execution_count": 110,
   "metadata": {},
   "outputs": [
    {
     "data": {
      "text/plain": [
       "HMP ID                        0\n",
       "GOLD ID                    1132\n",
       "Organism Name                 0\n",
       "Domain                      203\n",
       "NCBI Superkingdom           164\n",
       "HMP Isolation Body Site       0\n",
       "Project Status                0\n",
       "Current Finishing Level    1336\n",
       "NCBI Submission Status        0\n",
       "NCBI Project ID               0\n",
       "Genbank ID                 1336\n",
       "Gene Count                    0\n",
       "IMG/HMP ID                    0\n",
       "HOMD ID                    2518\n",
       "Sequencing Center             4\n",
       "Funding Source                0\n",
       "Strain Repository ID       1538\n",
       "dtype: int64"
      ]
     },
     "execution_count": 110,
     "metadata": {},
     "output_type": "execute_result"
    }
   ],
   "source": [
    "missing_values = micro.isnull().sum()\n",
    "missing_values"
   ]
  },
  {
   "cell_type": "markdown",
   "metadata": {},
   "source": [
    "<br>"
   ]
  },
  {
   "cell_type": "code",
   "execution_count": 111,
   "metadata": {},
   "outputs": [
    {
     "data": {
      "text/plain": [
       "(2915, 17)"
      ]
     },
     "execution_count": 111,
     "metadata": {},
     "output_type": "execute_result"
    }
   ],
   "source": [
    "micro.shape"
   ]
  },
  {
   "cell_type": "markdown",
   "metadata": {},
   "source": [
    "<br>"
   ]
  },
  {
   "cell_type": "code",
   "execution_count": 112,
   "metadata": {},
   "outputs": [
    {
     "data": {
      "text/plain": [
       "Index(['HMP ID', 'GOLD ID', 'Organism Name', 'Domain', 'NCBI Superkingdom',\n",
       "       'HMP Isolation Body Site', 'Project Status', 'Current Finishing Level',\n",
       "       'NCBI Submission Status', 'NCBI Project ID', 'Genbank ID', 'Gene Count',\n",
       "       'IMG/HMP ID', 'HOMD ID', 'Sequencing Center', 'Funding Source',\n",
       "       'Strain Repository ID'],\n",
       "      dtype='object')"
      ]
     },
     "execution_count": 112,
     "metadata": {},
     "output_type": "execute_result"
    }
   ],
   "source": [
    "micro.columns "
   ]
  },
  {
   "cell_type": "markdown",
   "metadata": {},
   "source": [
    "<br>"
   ]
  },
  {
   "cell_type": "code",
   "execution_count": 113,
   "metadata": {},
   "outputs": [
    {
     "name": "stdout",
     "output_type": "stream",
     "text": [
      "<class 'pandas.core.frame.DataFrame'>\n",
      "RangeIndex: 2915 entries, 0 to 2914\n",
      "Data columns (total 17 columns):\n",
      " #   Column                   Non-Null Count  Dtype \n",
      "---  ------                   --------------  ----- \n",
      " 0   HMP ID                   2915 non-null   int64 \n",
      " 1   GOLD ID                  1783 non-null   object\n",
      " 2   Organism Name            2915 non-null   object\n",
      " 3   Domain                   2712 non-null   object\n",
      " 4   NCBI Superkingdom        2751 non-null   object\n",
      " 5   HMP Isolation Body Site  2915 non-null   object\n",
      " 6   Project Status           2915 non-null   object\n",
      " 7   Current Finishing Level  1579 non-null   object\n",
      " 8   NCBI Submission Status   2915 non-null   object\n",
      " 9   NCBI Project ID          2915 non-null   int64 \n",
      " 10  Genbank ID               1579 non-null   object\n",
      " 11  Gene Count               2915 non-null   int64 \n",
      " 12  IMG/HMP ID               2915 non-null   int64 \n",
      " 13  HOMD ID                  397 non-null    object\n",
      " 14  Sequencing Center        2911 non-null   object\n",
      " 15  Funding Source           2915 non-null   object\n",
      " 16  Strain Repository ID     1377 non-null   object\n",
      "dtypes: int64(4), object(13)\n",
      "memory usage: 387.3+ KB\n"
     ]
    }
   ],
   "source": [
    "micro.info()"
   ]
  },
  {
   "cell_type": "markdown",
   "metadata": {},
   "source": [
    "<br>\n",
    "Any duplicate records were dropped."
   ]
  },
  {
   "cell_type": "code",
   "execution_count": 114,
   "metadata": {},
   "outputs": [],
   "source": [
    "micro = micro.drop_duplicates()"
   ]
  },
  {
   "cell_type": "markdown",
   "metadata": {},
   "source": [
    "<br>\n",
    "Filled missing categorical values with 'Unknown'"
   ]
  },
  {
   "cell_type": "code",
   "execution_count": 115,
   "metadata": {},
   "outputs": [
    {
     "name": "stdout",
     "output_type": "stream",
     "text": [
      "HOMD: tax_389\n",
      "Unknown\n",
      "HOMD: tax_343\n",
      "HOMD: tax_554\n",
      "Unknown\n",
      "Unknown\n",
      "Unknown\n",
      "Unknown\n",
      "Unknown\n",
      "Unknown\n",
      "Unknown\n",
      "Unknown\n",
      "Unknown\n",
      "Unknown\n",
      "Unknown\n",
      "Unknown\n",
      "Unknown\n",
      "Unknown\n",
      "Unknown\n",
      "Unknown\n",
      "Unknown\n",
      "HOMD: tax_701\n",
      "HOMD: tax_701\n",
      "Unknown\n",
      "Unknown\n",
      "Unknown\n",
      "Unknown\n",
      "Unknown\n",
      "Unknown\n",
      "Unknown\n",
      "Unknown\n",
      "Unknown\n",
      "Unknown\n",
      "Unknown\n",
      "Unknown\n",
      "Unknown\n",
      "Unknown\n",
      "HOMD: tax_121\n",
      "Unknown\n",
      "Unknown\n"
     ]
    }
   ],
   "source": [
    "micro['HOMD ID'] = micro['HOMD ID'].fillna('Unknown')\n",
    "for i in range(40):\n",
    "    print(micro['HOMD ID'][i])"
   ]
  },
  {
   "cell_type": "markdown",
   "metadata": {},
   "source": [
    "<br>\n",
    "Handling Categorical values"
   ]
  },
  {
   "cell_type": "code",
   "execution_count": 116,
   "metadata": {},
   "outputs": [
    {
     "data": {
      "text/plain": [
       "Domain                     category\n",
       "NCBI Superkingdom          category\n",
       "HMP Isolation Body Site    category\n",
       "Project Status             category\n",
       "dtype: object"
      ]
     },
     "execution_count": 116,
     "metadata": {},
     "output_type": "execute_result"
    }
   ],
   "source": [
    "categorical_columns = ['Domain', 'NCBI Superkingdom', 'HMP Isolation Body Site', 'Project Status']\n",
    "for col in categorical_columns:\n",
    "    micro[col] = micro[col].astype('category')\n",
    "\n",
    "micro.dtypes[categorical_columns]"
   ]
  },
  {
   "cell_type": "markdown",
   "metadata": {},
   "source": [
    "<br>"
   ]
  },
  {
   "cell_type": "markdown",
   "metadata": {},
   "source": [
    "#### Visualizing outliers in the 'Gene Count' using a box plot"
   ]
  },
  {
   "cell_type": "code",
   "execution_count": 117,
   "metadata": {},
   "outputs": [
    {
     "data": {
      "text/plain": [
       "<function matplotlib.pyplot.show(close=None, block=None)>"
      ]
     },
     "execution_count": 117,
     "metadata": {},
     "output_type": "execute_result"
    },
    {
     "data": {
      "image/png": "[encoded data removed]",
      "text/plain": [
       "<Figure size 800x400 with 1 Axes>"
      ]
     },
     "metadata": {},
     "output_type": "display_data"
    }
   ],
   "source": [
    "plt.figure(figsize=(8, 4))\n",
    "plt.boxplot(micro['Gene Count'].dropna(), vert=False)\n",
    "plt.title('Box Plot of Gene Count')\n",
    "plt.ylabel('Gene Count')\n",
    "plt.show"
   ]
  },
  {
   "cell_type": "markdown",
   "metadata": {},
   "source": [
    "<br>"
   ]
  },
  {
   "cell_type": "markdown",
   "metadata": {},
   "source": [
    "#### Calculating basic descriptive statistics\n",
    "\n",
    "- **Mean**: The average gene count.\n",
    "- **Median**: The middle value of the gene count.\n",
    "- **Mode**: The most frequent gene count value.\n",
    "- **Standard Deviation**: Measure of the amount of variation or dispersion.\n",
    "- **Variance**: The square of the standard deviation.\n",
    "- **Range**: Difference between the highest and lowest gene counts.\n",
    "- **IQR**: Interquartile Range, which measures the spread of the middle 50% of values."
   ]
  },
  {
   "cell_type": "code",
   "execution_count": 118,
   "metadata": {},
   "outputs": [
    {
     "name": "stdout",
     "output_type": "stream",
     "text": [
      "\n",
      "mean:\n",
      "1474.622641509434\n",
      "\n",
      "median:\n",
      "1517.0\n",
      "\n",
      "mode:\n",
      "0\n",
      "\n",
      "Standard Deviation:\n",
      "1653.762393406458\n",
      "\n",
      "variance:\n",
      "2734930.0538454563\n",
      "\n",
      "range_value:\n",
      "8490\n",
      "\n",
      "IQR:\n",
      "2489.5\n"
     ]
    }
   ],
   "source": [
    "stats = {\n",
    "    'mean': micro['Gene Count'].mean(),\n",
    "    'median': micro['Gene Count'].median(),\n",
    "    'mode': micro['Gene Count'].mode()[0],\n",
    "    'Standard Deviation': micro['Gene Count'].std(),\n",
    "    'variance': micro['Gene Count'].var(),\n",
    "    'range_value': micro['Gene Count'].max() - micro['Gene Count'].min(),\n",
    "    'IQR': micro['Gene Count'].quantile(0.75) - micro['Gene Count'].quantile(0.25)\n",
    "}\n",
    "\n",
    "for stat, value in stats.items():\n",
    "    print(f\"\\n{stat}:\\n{value}\")\n",
    "    \n",
    "# mean, median, mode, std_dev, variance, range_value, iqr"
   ]
  },
  {
   "cell_type": "markdown",
   "metadata": {},
   "source": [
    "<br>"
   ]
  },
  {
   "cell_type": "markdown",
   "metadata": {},
   "source": [
    "#### Aggregating gene counts based on the 'Domain' of the organisms\n",
    "Aggregated the gene count data based on the microbiological domain. <br>\n",
    "The aggregated statistics include the mean, median, and standard deviation of gene counts for each domain."
   ]
  },
  {
   "cell_type": "code",
   "execution_count": 119,
   "metadata": {},
   "outputs": [
    {
     "name": "stderr",
     "output_type": "stream",
     "text": [
      "C:\\Users\\anura\\AppData\\Local\\Temp\\ipykernel_13004\\2561349031.py:1: FutureWarning: The default of observed=False is deprecated and will be changed to True in a future version of pandas. Pass observed=False to retain current behavior or observed=True to adopt the future default and silence this warning.\n",
      "  aggregation = micro.groupby('Domain')['Gene Count'].agg(['mean', 'median', 'std']).reset_index()\n"
     ]
    },
    {
     "data": {
      "text/html": [
       "<div>\n",
       "<style scoped>\n",
       "    .dataframe tbody tr th:only-of-type {\n",
       "        vertical-align: middle;\n",
       "    }\n",
       "\n",
       "    .dataframe tbody tr th {\n",
       "        vertical-align: top;\n",
       "    }\n",
       "\n",
       "    .dataframe thead th {\n",
       "        text-align: right;\n",
       "    }\n",
       "</style>\n",
       "<table border=\"1\" class=\"dataframe\">\n",
       "  <thead>\n",
       "    <tr style=\"text-align: right;\">\n",
       "      <th></th>\n",
       "      <th>Domain</th>\n",
       "      <th>mean</th>\n",
       "      <th>median</th>\n",
       "      <th>std</th>\n",
       "    </tr>\n",
       "  </thead>\n",
       "  <tbody>\n",
       "    <tr>\n",
       "      <th>0</th>\n",
       "      <td>ARCHAEAL</td>\n",
       "      <td>1712.500000</td>\n",
       "      <td>1712.5</td>\n",
       "      <td>4.949747</td>\n",
       "    </tr>\n",
       "    <tr>\n",
       "      <th>1</th>\n",
       "      <td>BACTERIAL</td>\n",
       "      <td>1572.355341</td>\n",
       "      <td>1677.5</td>\n",
       "      <td>1669.934046</td>\n",
       "    </tr>\n",
       "    <tr>\n",
       "      <th>2</th>\n",
       "      <td>EUKARYAL</td>\n",
       "      <td>0.000000</td>\n",
       "      <td>0.0</td>\n",
       "      <td>0.000000</td>\n",
       "    </tr>\n",
       "    <tr>\n",
       "      <th>3</th>\n",
       "      <td>VIRUS</td>\n",
       "      <td>0.000000</td>\n",
       "      <td>0.0</td>\n",
       "      <td>0.000000</td>\n",
       "    </tr>\n",
       "  </tbody>\n",
       "</table>\n",
       "</div>"
      ],
      "text/plain": [
       "      Domain         mean  median          std\n",
       "0   ARCHAEAL  1712.500000  1712.5     4.949747\n",
       "1  BACTERIAL  1572.355341  1677.5  1669.934046\n",
       "2   EUKARYAL     0.000000     0.0     0.000000\n",
       "3      VIRUS     0.000000     0.0     0.000000"
      ]
     },
     "execution_count": 119,
     "metadata": {},
     "output_type": "execute_result"
    }
   ],
   "source": [
    "aggregation = micro.groupby('Domain')['Gene Count'].agg(['mean', 'median', 'std']).reset_index()\n",
    "\n",
    "aggregation"
   ]
  },
  {
   "cell_type": "code",
   "execution_count": null,
   "metadata": {},
   "outputs": [],
   "source": []
  }
 ],
 "metadata": {
  "kernelspec": {
   "display_name": "Python 3 (ipykernel)",
   "language": "python",
   "name": "python3"
  },
  "language_info": {
   "codemirror_mode": {
    "name": "ipython",
    "version": 3
   },
   "file_extension": ".py",
   "mimetype": "text/x-python",
   "name": "python",
   "nbconvert_exporter": "python",
   "pygments_lexer": "ipython3",
   "version": "3.12.3"
  }
 },
 "nbformat": 4,
 "nbformat_minor": 4
}
